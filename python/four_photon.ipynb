{
 "cells": [
  {
   "cell_type": "code",
   "execution_count": 1,
   "id": "similar-audience",
   "metadata": {},
   "outputs": [],
   "source": [
    "import numpy as np\n",
    "import matplotlib.pyplot as plt\n",
    "\n",
    "import qutip as qt\n",
    "\n",
    "import sim_utils as su\n",
    "\n",
    "MHz = 1. # work in units of MHz\n",
    "pi = np.pi"
   ]
  },
  {
   "cell_type": "code",
   "execution_count": 21,
   "id": "possible-connection",
   "metadata": {},
   "outputs": [
    {
     "name": "stdout",
     "output_type": "stream",
     "text": [
      "alpha = 2.1321492831558375\n"
     ]
    }
   ],
   "source": [
    "### system parameters\n",
    "K = 2. * pi * 6. * MHz # Kerr nonlinearity\n",
    "e_4 = 8. * 2. * pi * 15.5 * MHz # four-photon drive strength\n",
    "n_th = 0.0 # population of n=1 Fock state due to thermal noise\n",
    "print(\"alpha =\", (e_4 / K)**0.25)\n",
    "\n",
    "### drive parameters\n",
    "tau = 320.0e-3 / MHz # drive ramp time, ns\n",
    "\n",
    "### simulation parameters\n",
    "N = 20 # dimensionality of the Hilbert space, per resonator\n",
    "tmax = 1. / MHz # go for 1 μs\n",
    "dt = 1.0e-3 / MHz\n",
    "\n",
    "### get the encoded basis states\n",
    "psi_00, psi_01 = su.cat_states(K, np.sqrt(e_4), N)\n",
    "psi_10, psi_11 = su.cat_states(K, 1.0j * np.sqrt(e_4), N)\n",
    "\n",
    "### define the Hamiltonian\n",
    "H = [su.H_kerr(K, N), su.H_4ph(e_4, N, strength_factor=su.tanh_ramp(tau, 0.))]"
   ]
  },
  {
   "cell_type": "code",
   "execution_count": 22,
   "id": "nearby-diving",
   "metadata": {},
   "outputs": [],
   "source": [
    "t = np.arange(0., tmax, dt)\n",
    "\n",
    "### initialize to the ground state\n",
    "psi_init = (1. - n_th) * qt.basis(N, 0) + n_th * qt.basis(N, 1)\n",
    "#psi_init = (psi_00 + psi_10) / np.sqrt(2.)\n",
    "rho_init = psi_init * psi_init.dag()\n",
    "\n",
    "result = qt.mesolve(H, rho_init, t, options=qt.Options(store_states=True))"
   ]
  },
  {
   "cell_type": "code",
   "execution_count": 23,
   "id": "wired-national",
   "metadata": {},
   "outputs": [
    {
     "data": {
      "text/plain": [
       "<matplotlib.contour.QuadContourSet at 0x7fa148e3e2e0>"
      ]
     },
     "execution_count": 23,
     "metadata": {},
     "output_type": "execute_result"
    },
    {
     "data": {
      "image/png": "[encoded data removed]",
      "text/plain": [
       "<Figure size 432x288 with 1 Axes>"
      ]
     },
     "metadata": {
      "needs_background": "light"
     },
     "output_type": "display_data"
    }
   ],
   "source": [
    "x = np.linspace(-4.5, 4.5, 100)\n",
    "plt.contourf(x, x, qt.wigner(result.states[-1], x, x))"
   ]
  },
  {
   "cell_type": "code",
   "execution_count": null,
   "id": "outer-tractor",
   "metadata": {},
   "outputs": [],
   "source": [
    "P0 = np.array([su.calculate_prob(rho, psi_0, N) for rho in result.states])\n",
    "\n",
    "plt.plot(t, P0)\n",
    "plt.plot(t, su.tanh_ramp(tau, 0.)(t, _))\n",
    "print(P0[-1])"
   ]
  }
 ],
 "metadata": {
  "kernelspec": {
   "display_name": "Python 3",
   "language": "python",
   "name": "python3"
  },
  "language_info": {
   "codemirror_mode": {
    "name": "ipython",
    "version": 3
   },
   "file_extension": ".py",
   "mimetype": "text/x-python",
   "name": "python",
   "nbconvert_exporter": "python",
   "pygments_lexer": "ipython3",
   "version": "3.8.10"
  }
 },
 "nbformat": 4,
 "nbformat_minor": 5
}
