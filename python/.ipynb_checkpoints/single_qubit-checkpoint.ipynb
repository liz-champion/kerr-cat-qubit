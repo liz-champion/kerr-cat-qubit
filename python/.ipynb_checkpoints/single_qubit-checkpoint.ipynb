{
 "cells": [
  {
   "cell_type": "code",
   "execution_count": 1,
   "id": "plain-garbage",
   "metadata": {},
   "outputs": [],
   "source": [
    "import numpy as np\n",
    "import matplotlib.pyplot as plt\n",
    "\n",
    "import qutip as qt\n",
    "\n",
    "import sim_utils as su\n",
    "\n",
    "MHz = 1. # work in units of MHz\n",
    "pi = np.pi"
   ]
  },
  {
   "cell_type": "code",
   "execution_count": 12,
   "id": "better-optimum",
   "metadata": {},
   "outputs": [],
   "source": [
    "### system parameters\n",
    "K = 2. * pi * 6. * MHz # Kerr nonlinearity\n",
    "e_2 = 2. * pi * 15.5 * MHz # two-photon drive strength\n",
    "n_th = 0.04 # population of n=1 Fock state due to thermal noise\n",
    "\n",
    "### drive parameters\n",
    "tau = 320.0e-3 / MHz # drive ramp time, ns\n",
    "\n",
    "### simulation parameters\n",
    "N = 10 # dimensionality of the Hilbert space, per resonator\n",
    "tmax = 1. / MHz # go for 1 μs\n",
    "dt = 1.0e-3 / MHz\n",
    "\n",
    "### get the encoded basis states\n",
    "psi_0, psi_1 = su.cat_states(K, e_2, N)\n",
    "\n",
    "### define the Hamiltonian\n",
    "H = [su.H_kerr(K, N), su.H_2ph(e_2, N, strength_factor=su.tanh_ramp(tau, 0.))]"
   ]
  },
  {
   "cell_type": "code",
   "execution_count": 13,
   "id": "healthy-millennium",
   "metadata": {},
   "outputs": [],
   "source": [
    "t = np.arange(0., tmax, dt)\n",
    "\n",
    "### initialize to the ground state\n",
    "psi_init = (1. - n_th) * qt.basis(N, 0) + n_th * qt.basis(N, 1)\n",
    "rho_init = psi_init * psi_init.dag()\n",
    "\n",
    "result = qt.mesolve(H, rho_init, t, options=qt.Options(store_states=True))"
   ]
  },
  {
   "cell_type": "code",
   "execution_count": 14,
   "id": "traditional-bangladesh",
   "metadata": {},
   "outputs": [
    {
     "name": "stdout",
     "output_type": "stream",
     "text": [
      "[0.91948865]\n"
     ]
    },
    {
     "data": {
      "image/png": "[encoded data removed]",
      "text/plain": [
       "<Figure size 432x288 with 1 Axes>"
      ]
     },
     "metadata": {
      "needs_background": "light"
     },
     "output_type": "display_data"
    }
   ],
   "source": [
    "P0 = np.array([su.calculate_prob(rho, psi_0, N) for rho in result.states])\n",
    "\n",
    "plt.plot(t, P0)\n",
    "plt.plot(t, su.tanh_ramp(tau, 0.)(t, _))\n",
    "print(P0[-1])"
   ]
  },
  {
   "cell_type": "code",
   "execution_count": null,
   "id": "legitimate-ebony",
   "metadata": {},
   "outputs": [],
   "source": []
  }
 ],
 "metadata": {
  "kernelspec": {
   "display_name": "Python 3",
   "language": "python",
   "name": "python3"
  },
  "language_info": {
   "codemirror_mode": {
    "name": "ipython",
    "version": 3
   },
   "file_extension": ".py",
   "mimetype": "text/x-python",
   "name": "python",
   "nbconvert_exporter": "python",
   "pygments_lexer": "ipython3",
   "version": "3.8.10"
  }
 },
 "nbformat": 4,
 "nbformat_minor": 5
}
